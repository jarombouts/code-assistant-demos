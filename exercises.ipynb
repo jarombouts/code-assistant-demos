{
 "cells": [
  {
   "cell_type": "markdown",
   "metadata": {},
   "source": [
    "This notebook lets you play around with an AI coding assistant. Here are some instructions on how to use it:\n",
    "- The assistant will attempt to autocomplete code automatically\n",
    "- You can also guide it by creating a comment indicating what you want to do, press enter and wait\n",
    "    - As the comments are already placed for this exercise: place your cursor at the end of each comment and press enter, and wait for the code suggestion\n",
    "- If there is a suggestion, you can press Tab to accept it\n",
    "    - You can also hover over the suggestion (before accepting it) to go through alternative suggestions if you think the code is not right\n",
    "\n",
    "Other ways to use the assistant:\n",
    "- Select a code snippet and right click, you will see a couple of things Codeium can do for you\n",
    "- Chat with the AI assistant by clicking on the VSCode extension on the left"
   ]
  },
  {
   "cell_type": "markdown",
   "metadata": {},
   "source": [
    "Data dictionary of the data that we will use:\n",
    "\n",
    "| Variable | Definition | Key             |\n",
    "|----------|------------|-----------------|\n",
    "| PassengeId | Passenger ID | |\n",
    "| Survived | Survival   | 0 = No, 1 = Yes |\n",
    "| Pclass | Ticket class\t| 1 = 1st, 2 = 2nd, 3 = 3rd |\n",
    "| Name | Passenger name | |\n",
    "| Sex | Sex\t| |\n",
    "| Age | Age in years | \t|\n",
    "| Sibsp | # of siblings / spouses aboard the Titanic | \n",
    "| Parch | # of parents / children aboard the Titanic |\t\n",
    "| Ticket | Ticket number | |\n",
    "| Fare | Passenger fare\t| |\n",
    "| Cabin | Cabin number | |\n",
    "| Embarked | Port of Embarkation | C = Cherbourg, Q = Queenstown, S = Southampton|"
   ]
  },
  {
   "cell_type": "markdown",
   "metadata": {},
   "source": [
    "## Exercise 1"
   ]
  },
  {
   "cell_type": "markdown",
   "metadata": {},
   "source": [
    "In this exercise, we will load the Titanic dataset from a CSV file and perform some initial exploratory data analysis to get acquainted with the data.\n",
    "\n",
    "We will use the coding assistant to guide us with this. The instructions (commented) are already there to start off easily. "
   ]
  },
  {
   "cell_type": "code",
   "execution_count": null,
   "metadata": {},
   "outputs": [],
   "source": [
    "# import necessary functions\n",
    "from functions import load_titanic_dataset, visualize_age_distribution\n",
    "import pandas as pd\n",
    "import matplotlib.pyplot as plt\n",
    "import seaborn as sns"
   ]
  },
  {
   "cell_type": "code",
   "execution_count": null,
   "metadata": {},
   "outputs": [],
   "source": [
    "# Load the titanic dataset and store it in a DataFrame\n"
   ]
  },
  {
   "cell_type": "code",
   "execution_count": null,
   "metadata": {},
   "outputs": [],
   "source": [
    "# Show the first 5 rows of the DataFrame"
   ]
  },
  {
   "cell_type": "code",
   "execution_count": null,
   "metadata": {},
   "outputs": [],
   "source": [
    "# Describe the statistics of the dataframe"
   ]
  },
  {
   "cell_type": "code",
   "execution_count": null,
   "metadata": {},
   "outputs": [],
   "source": [
    "# Visualise the age distribution of the passengers"
   ]
  },
  {
   "cell_type": "markdown",
   "metadata": {},
   "source": [
    "Now lets try to check the following:\n",
    "- Check the shape of the dataset (number of rows and columns).\n",
    "- Inspect the column names and data types of each column.\n",
    "- Check for any missing values in the dataset.\n",
    "\n",
    "You should create the instructions yourself in the following cells."
   ]
  },
  {
   "cell_type": "code",
   "execution_count": null,
   "metadata": {},
   "outputs": [],
   "source": []
  },
  {
   "cell_type": "code",
   "execution_count": null,
   "metadata": {},
   "outputs": [],
   "source": []
  },
  {
   "cell_type": "code",
   "execution_count": null,
   "metadata": {},
   "outputs": [],
   "source": []
  },
  {
   "cell_type": "markdown",
   "metadata": {},
   "source": [
    "# Exercise 2 \n",
    "\n",
    "In this exercise, we want to find out the title for each passenger and add it in a new column. \n",
    "\n",
    "There is already an example function that uses regex (regular expressions) for this. However, it does not work correctly yet. \n",
    "Don't worry if you are not an expert in regex, we will let the coding assistant explain what the function does, and let it guide us in improving it.\n",
    "\n",
    "There are a couple of steps to perform. "
   ]
  },
  {
   "cell_type": "markdown",
   "metadata": {},
   "source": [
    "Look at the \"Name\" column below, and try to think about what separates the title from the rest of the name"
   ]
  },
  {
   "cell_type": "code",
   "execution_count": null,
   "metadata": {},
   "outputs": [],
   "source": [
    "# Display the Name column\n",
    "df[\"Name\"].head(15)"
   ]
  },
  {
   "cell_type": "markdown",
   "metadata": {},
   "source": [
    "Test the function that is already present, and look at the initial output"
   ]
  },
  {
   "cell_type": "code",
   "execution_count": null,
   "metadata": {},
   "outputs": [],
   "source": [
    "def extract_titles(df):\n",
    "    df[\"Title\"] = df[\"Name\"].str.extract(\" ([A-Za-z]+)\\,\", expand=False)\n",
    "    return df"
   ]
  },
  {
   "cell_type": "code",
   "execution_count": null,
   "metadata": {},
   "outputs": [],
   "source": [
    "# Extract the titles of the passengers and put in a new column\n",
    "df = extract_titles(df)"
   ]
  },
  {
   "cell_type": "code",
   "execution_count": null,
   "metadata": {},
   "outputs": [],
   "source": [
    "df.head()"
   ]
  },
  {
   "cell_type": "markdown",
   "metadata": {},
   "source": [
    "The new \"Title\" column does not actually contain the titles, so something is wrong.\n",
    "\n",
    "Highlight the extract_titles function above, right click, and click \"Codeium: Explain Selected Code Block\"\n",
    "\n",
    "Try to find out what is wrong, and fix the function. You can ask your coding assistant for help, and use the notebook cells below."
   ]
  },
  {
   "cell_type": "code",
   "execution_count": null,
   "metadata": {},
   "outputs": [],
   "source": []
  },
  {
   "cell_type": "code",
   "execution_count": null,
   "metadata": {},
   "outputs": [],
   "source": []
  },
  {
   "cell_type": "code",
   "execution_count": null,
   "metadata": {},
   "outputs": [],
   "source": []
  },
  {
   "cell_type": "markdown",
   "metadata": {},
   "source": [
    "If the functionality is correct, try to improve the function by letting the coding assistant create docstrings for you.\n",
    "\n",
    "Also play around a bit to find out what more things the assistant can improve for you (e.g. modify the code to deal with potential errors)"
   ]
  },
  {
   "cell_type": "code",
   "execution_count": null,
   "metadata": {},
   "outputs": [],
   "source": []
  },
  {
   "cell_type": "code",
   "execution_count": null,
   "metadata": {},
   "outputs": [],
   "source": []
  },
  {
   "cell_type": "markdown",
   "metadata": {},
   "source": [
    "## Exercise 3"
   ]
  },
  {
   "cell_type": "markdown",
   "metadata": {},
   "source": [
    "Let's find out how easy it is to clean and visualise parts of the dataset with the help of a coding assistant.\n",
    "\n",
    "Try to perform the following things:\n",
    "1. Clean the dataset \n",
    "    - Fill missing values in the \"Age\" column with the average age\n",
    "    - For the \"Embarked\" colum, fill missing values with the most frequent port of embarkation\n",
    "    - For the \"Cabin\" column, handle missing values by either dropping the column or categorizing passengers into \"Cabin\" and \"No Cabin\" groups\n",
    "2. Feature engineering\n",
    "    - Create a \"Family Size\" column with the family size (try to see if the AI assistant knows which columns are are needed for this, and what they mean)\n",
    "        - p.s. don't forget to count the passenger itself\n",
    "3. Outlier detection\n",
    "    - Investigate if there are any outliers in the numerical columns (e.g., \"Age,\" \"Fare\")\n",
    "4. Bin the age of the passenger into groups (\"Child\", \"Young Adult\", \"Adult\", \"Senior\") and visualise these\n",
    "5. Calculate the survival rate by gender, passenger class and title"
   ]
  },
  {
   "cell_type": "code",
   "execution_count": null,
   "metadata": {},
   "outputs": [],
   "source": []
  },
  {
   "cell_type": "code",
   "execution_count": null,
   "metadata": {},
   "outputs": [],
   "source": []
  },
  {
   "cell_type": "code",
   "execution_count": null,
   "metadata": {},
   "outputs": [],
   "source": []
  },
  {
   "cell_type": "markdown",
   "metadata": {},
   "source": [
    "## Exercise 4\n",
    "\n",
    "In the functions.py file are some more functions that can be used with this dataset: extract_ticket_prefix, family_survival_info\n",
    "\n",
    "Open the functions.py file and try to following:\n",
    "- Use the \"Explain\" button above the functions to find out what the functions do\n",
    "- Use the \"Generate docstring\" button above the functions to generate code documentation\n",
    "- Use the \"Refactor\" button above the functions to try various functionalities to improve the code:\n",
    "    - Add typing\n",
    "    - Check for bugs\n",
    "    - Make this faster and more efficient\n",
    "    - Generate unit tests"
   ]
  },
  {
   "cell_type": "code",
   "execution_count": null,
   "metadata": {},
   "outputs": [],
   "source": []
  },
  {
   "cell_type": "code",
   "execution_count": null,
   "metadata": {},
   "outputs": [],
   "source": []
  },
  {
   "cell_type": "code",
   "execution_count": null,
   "metadata": {},
   "outputs": [],
   "source": []
  },
  {
   "cell_type": "markdown",
   "metadata": {},
   "source": [
    "## Exercise 5\n",
    "\n",
    "Let's try some more advanced stuff, and see how far the coding assistant takes us. We will use sklearn for this.\n",
    "\n",
    "We will try to predict whether a passenger survived or not based on features like age, sex, class, etc. We will use a Machine learning model (Random Forest Classifier) for this. We will also visualise the results to understand the model's performance.\n"
   ]
  },
  {
   "cell_type": "code",
   "execution_count": null,
   "metadata": {},
   "outputs": [],
   "source": [
    "# Re-read the data to be sure we start with the raw data\n",
    "df = load_titanic_dataset(\"titanic.csv\")\n",
    "df.head()"
   ]
  },
  {
   "cell_type": "markdown",
   "metadata": {},
   "source": [
    "1. Prepare the data\n",
    "\n",
    "Steps we need to perform:\n",
    "- Only keep the Age, Sex, and Pclass columns, as well as the Survived column\n",
    "- Convert the \"Sex\" column to a numeric representation, 0 for female and 1 for male\n",
    "- Fill missing values in the \"Age\" column with the mean age\n",
    "- Split the dataset into features (X) and the target variable (y). The target variable should be the \"Survived\" column"
   ]
  },
  {
   "cell_type": "code",
   "execution_count": null,
   "metadata": {},
   "outputs": [],
   "source": []
  },
  {
   "cell_type": "code",
   "execution_count": null,
   "metadata": {},
   "outputs": [],
   "source": []
  },
  {
   "cell_type": "code",
   "execution_count": null,
   "metadata": {},
   "outputs": [],
   "source": []
  },
  {
   "cell_type": "code",
   "execution_count": null,
   "metadata": {},
   "outputs": [],
   "source": []
  },
  {
   "cell_type": "code",
   "execution_count": null,
   "metadata": {},
   "outputs": [],
   "source": []
  },
  {
   "cell_type": "code",
   "execution_count": null,
   "metadata": {},
   "outputs": [],
   "source": []
  },
  {
   "cell_type": "markdown",
   "metadata": {},
   "source": [
    "2. Train-Test split\n",
    "\n",
    "- Split the data into training and testing sets, with 80% of the data in the training set and 20% in the testing set."
   ]
  },
  {
   "cell_type": "code",
   "execution_count": null,
   "metadata": {},
   "outputs": [],
   "source": []
  },
  {
   "cell_type": "code",
   "execution_count": null,
   "metadata": {},
   "outputs": [],
   "source": []
  },
  {
   "cell_type": "markdown",
   "metadata": {},
   "source": [
    "3. Model training\n",
    "\n",
    "- Import the Random Forest Classifier from scikit-learn\n",
    "- Initialize the model and specify any hyperparameters (e.g., the number of trees in the forest)\n",
    "- Train the model on the training data using the fit() method"
   ]
  },
  {
   "cell_type": "code",
   "execution_count": null,
   "metadata": {},
   "outputs": [],
   "source": []
  },
  {
   "cell_type": "code",
   "execution_count": null,
   "metadata": {},
   "outputs": [],
   "source": []
  },
  {
   "cell_type": "code",
   "execution_count": null,
   "metadata": {},
   "outputs": [],
   "source": []
  },
  {
   "cell_type": "markdown",
   "metadata": {},
   "source": [
    "4. Model Evaluation\n",
    "\n",
    "- Use the trained model to make predictions on the testing set using the predict() method\n",
    "- Calculate accuracy by comparing the predicted results with the actual survival status to evaluate the model's performance\n",
    "- Create a confusion matrix\n",
    "- Plot the feature importance to show how much influence each feature has on survival\n",
    "- Create a countplot for predictions vs. ground truth"
   ]
  },
  {
   "cell_type": "code",
   "execution_count": null,
   "metadata": {},
   "outputs": [],
   "source": []
  },
  {
   "cell_type": "code",
   "execution_count": null,
   "metadata": {},
   "outputs": [],
   "source": []
  },
  {
   "cell_type": "code",
   "execution_count": null,
   "metadata": {},
   "outputs": [],
   "source": []
  },
  {
   "cell_type": "code",
   "execution_count": null,
   "metadata": {},
   "outputs": [],
   "source": []
  },
  {
   "cell_type": "code",
   "execution_count": null,
   "metadata": {},
   "outputs": [],
   "source": []
  },
  {
   "cell_type": "code",
   "execution_count": null,
   "metadata": {},
   "outputs": [],
   "source": []
  }
 ],
 "metadata": {
  "kernelspec": {
   "display_name": "Python 3",
   "language": "python",
   "name": "python3"
  },
  "language_info": {
   "codemirror_mode": {
    "name": "ipython",
    "version": 3
   },
   "file_extension": ".py",
   "mimetype": "text/x-python",
   "name": "python",
   "nbconvert_exporter": "python",
   "pygments_lexer": "ipython3",
   "version": "3.11.3"
  },
  "orig_nbformat": 4
 },
 "nbformat": 4,
 "nbformat_minor": 2
}
